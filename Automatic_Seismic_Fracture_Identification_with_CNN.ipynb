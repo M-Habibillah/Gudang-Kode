{
  "nbformat": 4,
  "nbformat_minor": 0,
  "metadata": {
    "colab": {
      "provenance": []
    },
    "kernelspec": {
      "name": "python3",
      "display_name": "Python 3"
    },
    "language_info": {
      "name": "python"
    }
  },
  "cells": [
    {
      "cell_type": "code",
      "source": [
        "pip install segyio"
      ],
      "metadata": {
        "colab": {
          "base_uri": "https://localhost:8080/"
        },
        "id": "GlNrfWLX1c17",
        "outputId": "7b695a0f-c64b-4f91-a478-b7ff4dc7d5df"
      },
      "execution_count": 3,
      "outputs": [
        {
          "output_type": "stream",
          "name": "stdout",
          "text": [
            "Looking in indexes: https://pypi.org/simple, https://us-python.pkg.dev/colab-wheels/public/simple/\n",
            "Collecting segyio\n",
            "  Downloading segyio-1.9.10-cp38-cp38-manylinux_2_12_x86_64.manylinux2010_x86_64.whl (84 kB)\n",
            "\u001b[2K     \u001b[90m━━━━━━━━━━━━━━━━━━━━━━━━━━━━━━━━━━━━━━━━\u001b[0m \u001b[32m84.1/84.1 KB\u001b[0m \u001b[31m3.0 MB/s\u001b[0m eta \u001b[36m0:00:00\u001b[0m\n",
            "\u001b[?25hRequirement already satisfied: numpy>=1.10 in /usr/local/lib/python3.8/dist-packages (from segyio) (1.22.4)\n",
            "Installing collected packages: segyio\n",
            "Successfully installed segyio-1.9.10\n"
          ]
        }
      ]
    },
    {
      "cell_type": "code",
      "source": [
        "pip install keras"
      ],
      "metadata": {
        "colab": {
          "base_uri": "https://localhost:8080/"
        },
        "id": "lSB30DtmtD0N",
        "outputId": "5ef675d4-118e-44f3-98ff-4b9235368dff"
      },
      "execution_count": 4,
      "outputs": [
        {
          "output_type": "stream",
          "name": "stdout",
          "text": [
            "Looking in indexes: https://pypi.org/simple, https://us-python.pkg.dev/colab-wheels/public/simple/\n",
            "Requirement already satisfied: keras in /usr/local/lib/python3.8/dist-packages (2.11.0)\n"
          ]
        }
      ]
    },
    {
      "cell_type": "code",
      "source": [
        "pip install tensorflow"
      ],
      "metadata": {
        "colab": {
          "base_uri": "https://localhost:8080/"
        },
        "id": "5QaAcRMH1mf3",
        "outputId": "fd0dbad2-18e8-42f7-eb3c-f619a645a1bb"
      },
      "execution_count": 5,
      "outputs": [
        {
          "output_type": "stream",
          "name": "stdout",
          "text": [
            "Looking in indexes: https://pypi.org/simple, https://us-python.pkg.dev/colab-wheels/public/simple/\n",
            "Requirement already satisfied: tensorflow in /usr/local/lib/python3.8/dist-packages (2.11.0)\n",
            "Requirement already satisfied: setuptools in /usr/local/lib/python3.8/dist-packages (from tensorflow) (57.4.0)\n",
            "Requirement already satisfied: typing-extensions>=3.6.6 in /usr/local/lib/python3.8/dist-packages (from tensorflow) (4.5.0)\n",
            "Requirement already satisfied: tensorboard<2.12,>=2.11 in /usr/local/lib/python3.8/dist-packages (from tensorflow) (2.11.2)\n",
            "Requirement already satisfied: astunparse>=1.6.0 in /usr/local/lib/python3.8/dist-packages (from tensorflow) (1.6.3)\n",
            "Requirement already satisfied: six>=1.12.0 in /usr/local/lib/python3.8/dist-packages (from tensorflow) (1.15.0)\n",
            "Requirement already satisfied: termcolor>=1.1.0 in /usr/local/lib/python3.8/dist-packages (from tensorflow) (2.2.0)\n",
            "Requirement already satisfied: keras<2.12,>=2.11.0 in /usr/local/lib/python3.8/dist-packages (from tensorflow) (2.11.0)\n",
            "Requirement already satisfied: gast<=0.4.0,>=0.2.1 in /usr/local/lib/python3.8/dist-packages (from tensorflow) (0.4.0)\n",
            "Requirement already satisfied: numpy>=1.20 in /usr/local/lib/python3.8/dist-packages (from tensorflow) (1.22.4)\n",
            "Requirement already satisfied: absl-py>=1.0.0 in /usr/local/lib/python3.8/dist-packages (from tensorflow) (1.4.0)\n",
            "Requirement already satisfied: libclang>=13.0.0 in /usr/local/lib/python3.8/dist-packages (from tensorflow) (15.0.6.1)\n",
            "Requirement already satisfied: tensorflow-estimator<2.12,>=2.11.0 in /usr/local/lib/python3.8/dist-packages (from tensorflow) (2.11.0)\n",
            "Requirement already satisfied: google-pasta>=0.1.1 in /usr/local/lib/python3.8/dist-packages (from tensorflow) (0.2.0)\n",
            "Requirement already satisfied: opt-einsum>=2.3.2 in /usr/local/lib/python3.8/dist-packages (from tensorflow) (3.3.0)\n",
            "Requirement already satisfied: wrapt>=1.11.0 in /usr/local/lib/python3.8/dist-packages (from tensorflow) (1.14.1)\n",
            "Requirement already satisfied: protobuf<3.20,>=3.9.2 in /usr/local/lib/python3.8/dist-packages (from tensorflow) (3.19.6)\n",
            "Requirement already satisfied: h5py>=2.9.0 in /usr/local/lib/python3.8/dist-packages (from tensorflow) (3.1.0)\n",
            "Requirement already satisfied: grpcio<2.0,>=1.24.3 in /usr/local/lib/python3.8/dist-packages (from tensorflow) (1.51.1)\n",
            "Requirement already satisfied: packaging in /usr/local/lib/python3.8/dist-packages (from tensorflow) (23.0)\n",
            "Requirement already satisfied: tensorflow-io-gcs-filesystem>=0.23.1 in /usr/local/lib/python3.8/dist-packages (from tensorflow) (0.30.0)\n",
            "Requirement already satisfied: flatbuffers>=2.0 in /usr/local/lib/python3.8/dist-packages (from tensorflow) (23.1.21)\n",
            "Requirement already satisfied: wheel<1.0,>=0.23.0 in /usr/local/lib/python3.8/dist-packages (from astunparse>=1.6.0->tensorflow) (0.38.4)\n",
            "Requirement already satisfied: tensorboard-plugin-wit>=1.6.0 in /usr/local/lib/python3.8/dist-packages (from tensorboard<2.12,>=2.11->tensorflow) (1.8.1)\n",
            "Requirement already satisfied: werkzeug>=1.0.1 in /usr/local/lib/python3.8/dist-packages (from tensorboard<2.12,>=2.11->tensorflow) (1.0.1)\n",
            "Requirement already satisfied: requests<3,>=2.21.0 in /usr/local/lib/python3.8/dist-packages (from tensorboard<2.12,>=2.11->tensorflow) (2.25.1)\n",
            "Requirement already satisfied: markdown>=2.6.8 in /usr/local/lib/python3.8/dist-packages (from tensorboard<2.12,>=2.11->tensorflow) (3.4.1)\n",
            "Requirement already satisfied: google-auth-oauthlib<0.5,>=0.4.1 in /usr/local/lib/python3.8/dist-packages (from tensorboard<2.12,>=2.11->tensorflow) (0.4.6)\n",
            "Requirement already satisfied: tensorboard-data-server<0.7.0,>=0.6.0 in /usr/local/lib/python3.8/dist-packages (from tensorboard<2.12,>=2.11->tensorflow) (0.6.1)\n",
            "Requirement already satisfied: google-auth<3,>=1.6.3 in /usr/local/lib/python3.8/dist-packages (from tensorboard<2.12,>=2.11->tensorflow) (2.16.0)\n",
            "Requirement already satisfied: rsa<5,>=3.1.4 in /usr/local/lib/python3.8/dist-packages (from google-auth<3,>=1.6.3->tensorboard<2.12,>=2.11->tensorflow) (4.9)\n",
            "Requirement already satisfied: pyasn1-modules>=0.2.1 in /usr/local/lib/python3.8/dist-packages (from google-auth<3,>=1.6.3->tensorboard<2.12,>=2.11->tensorflow) (0.2.8)\n",
            "Requirement already satisfied: cachetools<6.0,>=2.0.0 in /usr/local/lib/python3.8/dist-packages (from google-auth<3,>=1.6.3->tensorboard<2.12,>=2.11->tensorflow) (5.3.0)\n",
            "Requirement already satisfied: requests-oauthlib>=0.7.0 in /usr/local/lib/python3.8/dist-packages (from google-auth-oauthlib<0.5,>=0.4.1->tensorboard<2.12,>=2.11->tensorflow) (1.3.1)\n",
            "Requirement already satisfied: importlib-metadata>=4.4 in /usr/local/lib/python3.8/dist-packages (from markdown>=2.6.8->tensorboard<2.12,>=2.11->tensorflow) (6.0.0)\n",
            "Requirement already satisfied: certifi>=2017.4.17 in /usr/local/lib/python3.8/dist-packages (from requests<3,>=2.21.0->tensorboard<2.12,>=2.11->tensorflow) (2022.12.7)\n",
            "Requirement already satisfied: idna<3,>=2.5 in /usr/local/lib/python3.8/dist-packages (from requests<3,>=2.21.0->tensorboard<2.12,>=2.11->tensorflow) (2.10)\n",
            "Requirement already satisfied: urllib3<1.27,>=1.21.1 in /usr/local/lib/python3.8/dist-packages (from requests<3,>=2.21.0->tensorboard<2.12,>=2.11->tensorflow) (1.24.3)\n",
            "Requirement already satisfied: chardet<5,>=3.0.2 in /usr/local/lib/python3.8/dist-packages (from requests<3,>=2.21.0->tensorboard<2.12,>=2.11->tensorflow) (4.0.0)\n",
            "Requirement already satisfied: zipp>=0.5 in /usr/local/lib/python3.8/dist-packages (from importlib-metadata>=4.4->markdown>=2.6.8->tensorboard<2.12,>=2.11->tensorflow) (3.13.0)\n",
            "Requirement already satisfied: pyasn1<0.5.0,>=0.4.6 in /usr/local/lib/python3.8/dist-packages (from pyasn1-modules>=0.2.1->google-auth<3,>=1.6.3->tensorboard<2.12,>=2.11->tensorflow) (0.4.8)\n",
            "Requirement already satisfied: oauthlib>=3.0.0 in /usr/local/lib/python3.8/dist-packages (from requests-oauthlib>=0.7.0->google-auth-oauthlib<0.5,>=0.4.1->tensorboard<2.12,>=2.11->tensorflow) (3.2.2)\n"
          ]
        }
      ]
    },
    {
      "cell_type": "code",
      "source": [
        "pip install matplotlib"
      ],
      "metadata": {
        "colab": {
          "base_uri": "https://localhost:8080/"
        },
        "id": "5uNdTPxu1pWs",
        "outputId": "0f9b5277-dd20-4227-943d-86af1e87299d"
      },
      "execution_count": 6,
      "outputs": [
        {
          "output_type": "stream",
          "name": "stdout",
          "text": [
            "Looking in indexes: https://pypi.org/simple, https://us-python.pkg.dev/colab-wheels/public/simple/\n",
            "Requirement already satisfied: matplotlib in /usr/local/lib/python3.8/dist-packages (3.2.2)\n",
            "Requirement already satisfied: python-dateutil>=2.1 in /usr/local/lib/python3.8/dist-packages (from matplotlib) (2.8.2)\n",
            "Requirement already satisfied: cycler>=0.10 in /usr/local/lib/python3.8/dist-packages (from matplotlib) (0.11.0)\n",
            "Requirement already satisfied: pyparsing!=2.0.4,!=2.1.2,!=2.1.6,>=2.0.1 in /usr/local/lib/python3.8/dist-packages (from matplotlib) (3.0.9)\n",
            "Requirement already satisfied: kiwisolver>=1.0.1 in /usr/local/lib/python3.8/dist-packages (from matplotlib) (1.4.4)\n",
            "Requirement already satisfied: numpy>=1.11 in /usr/local/lib/python3.8/dist-packages (from matplotlib) (1.22.4)\n",
            "Requirement already satisfied: six>=1.5 in /usr/local/lib/python3.8/dist-packages (from python-dateutil>=2.1->matplotlib) (1.15.0)\n"
          ]
        }
      ]
    },
    {
      "cell_type": "markdown",
      "source": [
        "LOAD DATA"
      ],
      "metadata": {
        "id": "2r1336Qw3GkG"
      }
    },
    {
      "cell_type": "code",
      "source": [
        "import numpy as np\n",
        "import os\n",
        "from keras.models import model_from_json\n",
        "import segyio\n",
        "import matplotlib.pyplot as plt"
      ],
      "metadata": {
        "id": "g5lSzwcj1PeH"
      },
      "execution_count": 7,
      "outputs": []
    },
    {
      "cell_type": "code",
      "source": [
        "file_seismiknya = \"file seismiknya.segy\"\n",
        "data = segyio.tools.cube(file_seismiknya)"
      ],
      "metadata": {
        "id": "pwBVnrsi16Hd"
      },
      "execution_count": null,
      "outputs": []
    },
    {
      "cell_type": "code",
      "source": [
        "with segyio.open(file_seismiknya, ignore_geometry=True) as f:\n",
        "  twt = f.samples"
      ],
      "metadata": {
        "id": "ScYjQzaA2OO_"
      },
      "execution_count": null,
      "outputs": []
    },
    {
      "cell_type": "code",
      "source": [
        "clip = data[:, :400, 300:]"
      ],
      "metadata": {
        "id": "MvKWCTDY2m9e"
      },
      "execution_count": null,
      "outputs": []
    },
    {
      "cell_type": "code",
      "source": [
        "time = twt\n",
        "time_clip = twt[300:]"
      ],
      "metadata": {
        "id": "gY_3lThC2tK6"
      },
      "execution_count": null,
      "outputs": []
    },
    {
      "cell_type": "code",
      "source": [
        "print(data.shape)"
      ],
      "metadata": {
        "id": "zBU2Ar9y21wg"
      },
      "execution_count": null,
      "outputs": []
    },
    {
      "cell_type": "markdown",
      "source": [
        "LOAD MODEL"
      ],
      "metadata": {
        "id": "MYatkTfZ3Ayz"
      }
    },
    {
      "cell_type": "code",
      "source": [
        "json_file = open(\"masukin model json nya kesini.json\", \"r\")\n",
        "loaded_model_json = json_file.read()\n",
        "json_file.close()\n",
        "loaded_model = model_from_json(loaded_model_json)\n",
        "loaded_model.load_weights(\"masukin model pretrained nya.hdf5\")"
      ],
      "metadata": {
        "id": "NNVBoggK3DwK"
      },
      "execution_count": null,
      "outputs": []
    },
    {
      "cell_type": "markdown",
      "source": [
        "APPLY MODEL"
      ],
      "metadata": {
        "id": "5V5Rw7XMO9GU"
      }
    },
    {
      "cell_type": "code",
      "source": [
        "OutName = \"nama file output.dat\""
      ],
      "metadata": {
        "id": "mR6r86ZoO8ds"
      },
      "execution_count": null,
      "outputs": []
    },
    {
      "cell_type": "code",
      "source": [
        "# Training Image Dimensions\n",
        "n1, n2, n3 = 128, 128, 128\n",
        "params = {\"batch_size\":1,\n",
        "          \"dim\":(n1,n2,n3),\n",
        "          \"n_channels\": 1,\n",
        "          \"shuffle\": True}"
      ],
      "metadata": {
        "id": "FjyLMRZ1PKbb"
      },
      "execution_count": null,
      "outputs": []
    },
    {
      "cell_type": "code",
      "source": [
        "# set Gaussian Weights in the overlap boundaries\n",
        "def getmask(os):\n",
        "  sc = np.zeros((n1,n2,n3), dtype=np.single)\n",
        "  sc = sc+1\n",
        "  sp = np.zeros((os), dtype=np.single)\n",
        "  sig = os/4\n",
        "  sig = 0.5/(sig*sig)\n",
        "  for ks in range(os):\n",
        "    ds = ks-os+1\n",
        "    sp[ks] = np.exp(-ds*ds*sig)\n",
        "  for k1 in range(os):\n",
        "    for k2 in range(n2):\n",
        "      for k3 in range(n3):\n",
        "        sc[k1] [k2] [k3] = sp[k1]\n",
        "        sc[n1-k1-1] [k2] [k3] = sp[k1]\n",
        "  for k1 in range(n1):\n",
        "    for k2 in range(os):\n",
        "      for k3 in range(n3):\n",
        "        sc[k1] [k2] [k3] = sp[k2]\n",
        "        sc[k1] [n2-k2-1] [k3] = sp[k2]\n",
        "  for k1 in range(n1):\n",
        "    for k2 in range(n2):\n",
        "      for k3 in range(os):\n",
        "        sc[k1] [k2] [k3] = sp[k3]\n",
        "        sc[k1] [k2] [n3-k3-1] = sp[k3]\n",
        "  return sc"
      ],
      "metadata": {
        "id": "FxB37ogJPmgy"
      },
      "execution_count": null,
      "outputs": []
    },
    {
      "cell_type": "code",
      "source": [
        "from pickle import BININT1\n",
        "gx,m1,m2,m3 = data, data.shape[0], data.shape[1], data.shape[2]\n",
        "os = 12  # Overlap Width\n",
        "c1 = np.round((m1+os) / (n1-os) + 0.5)\n",
        "c2 = np.round((m2+os) / (n2-os) + 0.5)\n",
        "c3 = np.round((m3+os) / (n3-os) + 0.5)\n",
        "\n",
        "c1 = int(c1)\n",
        "c2 = int(c2)\n",
        "c3 = int(c3)\n",
        "\n",
        "p1 = (n1-os) * c1+os\n",
        "p2 = (n2-os) * c2+os\n",
        "p3 = (n3-os) * c3+os\n",
        "\n",
        "gx = np.reshape(gx,(m1,m2,m3))\n",
        "gp = np.zeros((p1,p2,p3), dtype=np.single)\n",
        "gy = np.zeros((p1,p2,p3), dtype=np.single)\n",
        "mk = np.zeros((p1,p2,p3), dtype=np.single)\n",
        "gs = np.zeros((1,n1,n2,n3,1), dtype=np.single)\n",
        "\n",
        "gp[0:m1, 0:m2, 0:m3] = gx\n",
        "sc = getmask(os)\n",
        "\n",
        "for k1 in range(c1):\n",
        "  for k2 in range(c2):\n",
        "    for k3 in range(c3):\n",
        "      b1 = k1*n1-k1*os\n",
        "      e1 = b1+n1\n",
        "      b2 = k2*n2-k2*os\n",
        "      e2 = b2+n2\n",
        "      b3 = k3*n3-k3*os\n",
        "      e3 = b3+n3\n",
        "      gs[0,:,:,:,0] = gp[b1:e1, b2:e2, b3:e3]\n",
        "      gs = gs-np.min(gs)\n",
        "      gs = gs/np.max(gs)\n",
        "      gs = gs*255\n",
        "\n",
        "      Y = loaded_model.predict(gs, verbose=1)\n",
        "      Y = np.array(Y)\n",
        "      gy[b1:e1, b2:e2, b3:e3] = gy[b1:e1, b2:e2, b3:e3] + Y[0,:,:,:,0]*sc\n",
        "      mk[b1:e1, b2:e2, b3:e3] = mk[b1:e1, b2:e2, b3:e3]+sc\n",
        "\n",
        "gy = gy/mk\n",
        "gy = gy[0:m1, 0:m2, 0:m3]\n",
        "gy.tofile(OutName, format=\"%4\")"
      ],
      "metadata": {
        "id": "99RPvzX7R1RP"
      },
      "execution_count": null,
      "outputs": []
    },
    {
      "cell_type": "markdown",
      "source": [
        "VISUALIZATION + EVALUATION"
      ],
      "metadata": {
        "id": "shI4v53nhmK7"
      }
    },
    {
      "cell_type": "code",
      "source": [
        "from matplotlib.colors import LinearSegmentedColormap\n",
        "ncolors = 256\n",
        "color_array = plt.get_cmap(\"gray\")(range(ncolors))\n",
        "color_array[:,-1] = np.linspace(0.0, 0, ncolors)\n",
        "color_array[250:250] = [1, 0.0, 0.0, 1]\n",
        "map_object = LinearSegmentedColormap.from_list(name=\"faults1\", colors=color_array)\n",
        "plt.register_cmap(smap=map_object)"
      ],
      "metadata": {
        "id": "w_BrcPQ7hlYg"
      },
      "execution_count": null,
      "outputs": []
    },
    {
      "cell_type": "code",
      "source": [
        "gy,m1,m2,m3 = np.fromfile(\"nama file output.dat\", dtype=np.single), data.shape[0], data.shape[1], data.shape[2]\n",
        "\n",
        "gy = np.reshape(gy,(m1,m2,m3))"
      ],
      "metadata": {
        "id": "cKT6T18si0Le"
      },
      "execution_count": null,
      "outputs": []
    },
    {
      "cell_type": "code",
      "source": [
        "print(gy.shape)"
      ],
      "metadata": {
        "id": "PPB7Id2vjiaV"
      },
      "execution_count": null,
      "outputs": []
    },
    {
      "cell_type": "code",
      "source": [
        "gy_clip = gy[:, :400, 300:]"
      ],
      "metadata": {
        "id": "UtzZCJAvjn6D"
      },
      "execution_count": null,
      "outputs": []
    },
    {
      "cell_type": "code",
      "source": [
        "print(gy_clip.shape)"
      ],
      "metadata": {
        "id": "yraqIETajvz-"
      },
      "execution_count": null,
      "outputs": []
    },
    {
      "cell_type": "code",
      "source": [
        "gy"
      ],
      "metadata": {
        "id": "FteNZbkJj1YM"
      },
      "execution_count": null,
      "outputs": []
    },
    {
      "cell_type": "markdown",
      "source": [
        "PLOT DATA FULL"
      ],
      "metadata": {
        "id": "7J4Iqbd4j5Ck"
      }
    },
    {
      "cell_type": "code",
      "source": [
        "extent = [1, 400, twt[-1], twt[0]]\n",
        "z = 50\n",
        "fig2 = plt.figure(figsize=(15.0, 10.0))\n",
        "vmy = np.percentile(data, 99)\n",
        "img1 = plt.imshow(data[:,:,z].T, cmap=\"Greys\", vmin = -vmy, vmax=vmy, extent=extent, aspect=\"auto\")\n",
        "img2 = plt.imshow(gy[:,:,z].T, extent=extent, aspect=\"auto\", cmap=\"faults1\")\n",
        "plt.ylim([min(time), max(time)])\n",
        "plt.gca().invert_yaxis()\n",
        "plt.xlabel(\"Trace Location\")\n",
        "plt.ylabel(\"time [ms]\")\n",
        "plt.show"
      ],
      "metadata": {
        "id": "TVNbZLOaj2OI"
      },
      "execution_count": null,
      "outputs": []
    },
    {
      "cell_type": "markdown",
      "source": [
        "INLINE"
      ],
      "metadata": {
        "id": "KWH_f4HUl8mR"
      }
    },
    {
      "cell_type": "code",
      "source": [
        "extent = [1, 400, twt[-1], twt[300]]\n",
        "inline = 100\n",
        "fig2 = plt.figure(figsize=(15.0, 10.0))\n",
        "vmy = np.percentile(data, 99)\n",
        "img1 = plt.imshow(clip[inline,:,:].T, cmap=\"Greys\", vmin = -vmy, vmax=vmy, extent=extent, aspect=\"auto\")\n",
        "img2 = plt.imshow(gy_clip[inline,:,:].T, extent=extent, aspect=\"auto\", cmap=\"faults1\")\n",
        "plt.ylim([min(time), max(time)])\n",
        "plt.gca().invert_yaxis()\n",
        "plt.xlabel(\"Trace Location\")\n",
        "plt.ylabel(\"time [ms]\")\n",
        "plt.show"
      ],
      "metadata": {
        "id": "WUMWbSuYlQv1"
      },
      "execution_count": null,
      "outputs": []
    }
  ]
}